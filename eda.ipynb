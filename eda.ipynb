{
 "cells": [
  {
   "cell_type": "code",
   "execution_count": null,
   "metadata": {},
   "outputs": [],
   "source": [
    "# Load the Data\n",
    "%run data_prep.ipynb"
   ]
  },
  {
   "cell_type": "code",
   "execution_count": null,
   "metadata": {},
   "outputs": [],
   "source": [
    "# EDA\n",
    "'''\n",
    "- \n",
    "- \n",
    "- Visualize the sampling per neighborhood\n",
    "- Distribution of the restaurant tags\n",
    "- Distribution of the has images, phone, and address\n",
    "- Distribution of the prices\n",
    "- Histogram of the calculated score\n",
    "'''\n",
    "import matplotlib.pyplot as plt\n",
    "%matplotlib inline\n",
    "\n",
    "\n",
    "# Will need to make these graphs more presentable\n",
    "\n",
    "# Distribution of review count\n",
    "plt.hist(bus_copy['review_count'], color='blue', edgecolor='black')\n",
    "plt.axvline(bus_copy['review_count'].median(), color='k', linestyle='dashed', linewidth=1)\n",
    "plt.xlabel('Review Count')\n",
    "plt.ylabel('No. of Restaurants')\n",
    "plt.title('Log Distribution of Review Counts')\n",
    "plt.yscale('log')\n",
    "plt.show()\n",
    "\n",
    "# Distribution of balanced rating score\n",
    "plt.hist(bus_copy['brs'], color='blue', edgecolor='black')\n",
    "plt.axvline(bus_copy['brs'].median(), color='k', linestyle='dashed', linewidth=1)\n",
    "plt.xlabel('BRS')\n",
    "plt.ylabel('No. of Restaurants')\n",
    "plt.title('Distribution of BRS')\n",
    "plt.show()\n",
    "\n",
    "# Distribution of rating\n",
    "rating_counts = bus_copy.loc[:, '0.0':'5.0'].sum()\n",
    "rating_counts.plot(kind='bar', color='skyblue')\n",
    "plt.title('Rating Counts')\n",
    "plt.xlabel('Ratings')\n",
    "plt.ylabel('Count')\n",
    "plt.xticks(rotation=90)  # Rotate x-axis labels if needed\n",
    "plt.show()\n",
    "\n",
    "# Count of each neighborhood\n",
    "neighborhood_counts = bus_copy.loc[:, 'Allston':'West Roxbury'].sum()\n",
    "neighborhood_counts.plot(kind='bar', color='skyblue')\n",
    "plt.title('Neighborhood Counts')\n",
    "plt.xlabel('Neighborhoods')\n",
    "plt.ylabel('Count')\n",
    "plt.xticks(rotation=90)  # Rotate x-axis labels if needed\n",
    "plt.show()\n"
   ]
  },
  {
   "cell_type": "code",
   "execution_count": null,
   "metadata": {},
   "outputs": [],
   "source": [
    "# Counts of prices\n",
    "price_counts = bus_copy.loc[:, ['affordable_eats', 'mid-range_dining', 'upscale_dining', 'gourmet_experience']].sum()\n",
    "\n",
    "print(price_counts)\n",
    "\n",
    "price_counts.plot(kind='bar', color='skyblue')\n",
    "plt.title('Price Counts')\n",
    "plt.xlabel('Prices')\n",
    "plt.ylabel('Count')\n",
    "plt.xticks(rotation=50)  # Rotate x-axis labels if needed\n",
    "plt.show()\n",
    "\n",
    "\n",
    "# Counts of tags\n",
    "tag_counts = bus_copy.loc[:, ['delivery', 'pickup', 'restaurant_reservation', 'has_image', 'has_phone', 'has_st_add', 'has_price']].sum()\n",
    "\n",
    "print(tag_counts)\n",
    "\n",
    "tag_counts.plot(kind='bar', color='skyblue')\n",
    "plt.axhline(y = bus_copy.shape[0], color = 'r', linestyle = '-')\n",
    "plt.title('Tag Counts')\n",
    "plt.xlabel('Tags')\n",
    "plt.ylabel('Count')\n",
    "plt.xticks(rotation=50)  # Rotate x-axis labels if needed\n",
    "plt.show()\n",
    "\n",
    "\n",
    "\n"
   ]
  },
  {
   "cell_type": "code",
   "execution_count": null,
   "metadata": {},
   "outputs": [],
   "source": [
    "import geopandas as gpd\n",
    "import geoplot\n",
    "import geoplot.crs as gcrs\n",
    "from shapely.geometry import Point, Polygon\n",
    "%matplotlib inline\n",
    "\n",
    "bos_map = gpd.read_file('City_of_Boston_Boundary/City_of_Boston_Boundary.shp')\n",
    "\n",
    "geometry = [Point(xy) for xy in zip(bus_copy['longitude'], bus_copy['latitude'])]\n",
    "crs = {'init':'epsg:4326'}\n",
    "\n",
    "geo_df = gpd.GeoDataFrame(bus_copy, # specify our data\n",
    "                          crs=crs, # specify our coordinate reference system\n",
    "                          geometry=geometry) # specify the geometry list we created\n",
    "\n",
    "fig, ax = plt.subplots(figsize=(15,15))\n",
    "bos_map.plot(ax=ax, alpha=0.4, color='grey')\n",
    "\n",
    "geo_df.plot(ax=ax,\n",
    "            markersize=2, \n",
    "            color='blue', \n",
    "            marker='o')\n",
    "\n",
    "\n",
    "plt.legend(prop={'size':15})"
   ]
  },
  {
   "cell_type": "code",
   "execution_count": null,
   "metadata": {},
   "outputs": [],
   "source": [
    "import folium\n",
    "geo_df.explore(\n",
    "    column=\"neighborhood\",  \n",
    "    tooltip=[\"name\", 'neighborhood', 'id', 'distance', 'zip_code'],\n",
    "    popup=True,  # show all values in popup (on click)\n",
    "    tiles=\"CartoDB positron\",  # use \"CartoDB positron\" tiles\n",
    "    cmap=\"Set1\",  # use \"Set1\" matplotlib colormap\n",
    ")"
   ]
  },
  {
   "cell_type": "code",
   "execution_count": null,
   "metadata": {},
   "outputs": [],
   "source": [
    "#stats = bus_copy.describe().transpose()\n",
    "bos_map = gpd.read_file('Boston_Neighborhoods/Boston_Neighborhoods.shp')\n",
    "ax = geoplot.polyplot(bos_map, projection=gcrs.AlbersEqualArea(), zorder=2, figsize=(15, 15))\n",
    "geoplot.kdeplot(geo_df, cmap='Reds', thresh=0, fill=True, clip=bos_map, ax=ax)\n"
   ]
  },
  {
   "cell_type": "code",
   "execution_count": null,
   "metadata": {},
   "outputs": [],
   "source": [
    "print(bus_copy['brs'].quantile(0.75))\n",
    "print(bus_copy['brs'].median())\n",
    "\n",
    "cuisines = bus_copy.loc[:, 'acaibowls':'wraps'].columns"
   ]
  },
  {
   "cell_type": "code",
   "execution_count": null,
   "metadata": {},
   "outputs": [],
   "source": [
    "cuisine_counts = (bus_copy.loc[:, 'acaibowls':'wraps'].sum().to_frame()).sort_values([0], ascending = False)\n",
    "\n",
    "cuisine_counts[:30].plot(kind='bar', color='skyblue')\n",
    "plt.title('Cuisine Counts')\n",
    "plt.xlabel('Cuisines')\n",
    "plt.ylabel('Count')\n",
    "plt.xticks(rotation=90)  # Rotate x-axis labels if needed\n",
    "plt.show()\n",
    "\n",
    "# explore the distribution of brs in each feature\n",
    "# what neighborhoods have the highest mean brs\n",
    "# next up is machine learning!"
   ]
  },
  {
   "cell_type": "code",
   "execution_count": null,
   "metadata": {},
   "outputs": [],
   "source": [
    "bus_copy.groupby([\"neighborhood\"])[\"brs\"].median().to_frame().plot(kind='bar', color='skyblue')\n",
    "plt.axhline(y = bus_copy['brs'].median(), color = 'r', linestyle = '-')\n",
    "plt.title('Median BRS By Neighborhood')\n",
    "plt.xlabel('Neighborhood')\n",
    "plt.ylabel('Median')\n",
    "plt.xticks(rotation=90)  # Rotate x-axis labels if needed\n",
    "plt.show()\n",
    "\n"
   ]
  },
  {
   "cell_type": "code",
   "execution_count": null,
   "metadata": {},
   "outputs": [],
   "source": [
    "bus_copy.boxplot(column='brs',by='high_brs')\n",
    "bus_copy.boxplot(column='review_count',by='high_brs')\n",
    "bus_copy.groupby(['neighborhood', 'high_brs'])['id'].count().unstack('high_brs').plot.bar()\n",
    "\n"
   ]
  }
 ],
 "metadata": {
  "kernelspec": {
   "display_name": "Python 3",
   "language": "python",
   "name": "python3"
  },
  "language_info": {
   "codemirror_mode": {
    "name": "ipython",
    "version": 3
   },
   "file_extension": ".py",
   "mimetype": "text/x-python",
   "name": "python",
   "nbconvert_exporter": "python",
   "pygments_lexer": "ipython3",
   "version": "3.9.12 (v3.9.12:b28265d7e6, Mar 23 2022, 18:17:11) \n[Clang 6.0 (clang-600.0.57)]"
  },
  "orig_nbformat": 4,
  "vscode": {
   "interpreter": {
    "hash": "aee8b7b246df8f9039afb4144a1f6fd8d2ca17a180786b69acc140d282b71a49"
   }
  }
 },
 "nbformat": 4,
 "nbformat_minor": 2
}
